{
 "cells": [
  {
   "cell_type": "code",
   "execution_count": 2,
   "metadata": {},
   "outputs": [
    {
     "name": "stdout",
     "output_type": "stream",
     "text": [
      "C:\\Users\\sriha\\Desktop\\Machine Learning Engineer\\p13-takehome-ml\n"
     ]
    }
   ],
   "source": [
    "cd C:\\Users\\sriha\\Desktop\\Machine Learning Engineer\\p13-takehome-ml"
   ]
  },
  {
   "cell_type": "markdown",
   "metadata": {},
   "source": [
    "### Import libraries "
   ]
  },
  {
   "cell_type": "code",
   "execution_count": 3,
   "metadata": {},
   "outputs": [],
   "source": [
    "import pandas as pd\n",
    "import numpy as np\n",
    "import matplotlib.pyplot as py\n",
    "import seaborn as sns"
   ]
  },
  {
   "cell_type": "markdown",
   "metadata": {},
   "source": [
    "### Import \"click-through\" dataset"
   ]
  },
  {
   "cell_type": "code",
   "execution_count": 4,
   "metadata": {},
   "outputs": [],
   "source": [
    "data = pd.read_csv(\"sampled_training.csv\")"
   ]
  },
  {
   "cell_type": "markdown",
   "metadata": {},
   "source": [
    "#### Sneak peak into the dataset"
   ]
  },
  {
   "cell_type": "code",
   "execution_count": 5,
   "metadata": {},
   "outputs": [
    {
     "data": {
      "text/html": [
       "<div>\n",
       "<style scoped>\n",
       "    .dataframe tbody tr th:only-of-type {\n",
       "        vertical-align: middle;\n",
       "    }\n",
       "\n",
       "    .dataframe tbody tr th {\n",
       "        vertical-align: top;\n",
       "    }\n",
       "\n",
       "    .dataframe thead th {\n",
       "        text-align: right;\n",
       "    }\n",
       "</style>\n",
       "<table border=\"1\" class=\"dataframe\">\n",
       "  <thead>\n",
       "    <tr style=\"text-align: right;\">\n",
       "      <th></th>\n",
       "      <th>id</th>\n",
       "      <th>click</th>\n",
       "      <th>hour</th>\n",
       "      <th>C1</th>\n",
       "      <th>banner_pos</th>\n",
       "      <th>site_id</th>\n",
       "      <th>site_domain</th>\n",
       "      <th>site_category</th>\n",
       "      <th>app_id</th>\n",
       "      <th>app_domain</th>\n",
       "      <th>...</th>\n",
       "      <th>device_type</th>\n",
       "      <th>device_conn_type</th>\n",
       "      <th>C14</th>\n",
       "      <th>C15</th>\n",
       "      <th>C16</th>\n",
       "      <th>C17</th>\n",
       "      <th>C18</th>\n",
       "      <th>C19</th>\n",
       "      <th>C20</th>\n",
       "      <th>C21</th>\n",
       "    </tr>\n",
       "  </thead>\n",
       "  <tbody>\n",
       "    <tr>\n",
       "      <th>0</th>\n",
       "      <td>10002028568167339219</td>\n",
       "      <td>0</td>\n",
       "      <td>14102100</td>\n",
       "      <td>1005</td>\n",
       "      <td>0</td>\n",
       "      <td>9e8cf15d</td>\n",
       "      <td>0d3cb7be</td>\n",
       "      <td>f028772b</td>\n",
       "      <td>ecad2386</td>\n",
       "      <td>7801e8d9</td>\n",
       "      <td>...</td>\n",
       "      <td>1</td>\n",
       "      <td>2</td>\n",
       "      <td>20596</td>\n",
       "      <td>320</td>\n",
       "      <td>50</td>\n",
       "      <td>2161</td>\n",
       "      <td>0</td>\n",
       "      <td>35</td>\n",
       "      <td>100148</td>\n",
       "      <td>157</td>\n",
       "    </tr>\n",
       "    <tr>\n",
       "      <th>1</th>\n",
       "      <td>10006958186789044052</td>\n",
       "      <td>1</td>\n",
       "      <td>14102100</td>\n",
       "      <td>1005</td>\n",
       "      <td>0</td>\n",
       "      <td>85f751fd</td>\n",
       "      <td>c4e18dd6</td>\n",
       "      <td>50e219e0</td>\n",
       "      <td>0acbeaa3</td>\n",
       "      <td>45a51db4</td>\n",
       "      <td>...</td>\n",
       "      <td>1</td>\n",
       "      <td>0</td>\n",
       "      <td>18993</td>\n",
       "      <td>320</td>\n",
       "      <td>50</td>\n",
       "      <td>2161</td>\n",
       "      <td>0</td>\n",
       "      <td>35</td>\n",
       "      <td>100034</td>\n",
       "      <td>157</td>\n",
       "    </tr>\n",
       "    <tr>\n",
       "      <th>2</th>\n",
       "      <td>10011650513707909570</td>\n",
       "      <td>0</td>\n",
       "      <td>14102100</td>\n",
       "      <td>1005</td>\n",
       "      <td>0</td>\n",
       "      <td>85f751fd</td>\n",
       "      <td>c4e18dd6</td>\n",
       "      <td>50e219e0</td>\n",
       "      <td>febd1138</td>\n",
       "      <td>82e27996</td>\n",
       "      <td>...</td>\n",
       "      <td>1</td>\n",
       "      <td>0</td>\n",
       "      <td>21611</td>\n",
       "      <td>320</td>\n",
       "      <td>50</td>\n",
       "      <td>2480</td>\n",
       "      <td>3</td>\n",
       "      <td>297</td>\n",
       "      <td>100111</td>\n",
       "      <td>61</td>\n",
       "    </tr>\n",
       "    <tr>\n",
       "      <th>3</th>\n",
       "      <td>10022961149355219548</td>\n",
       "      <td>0</td>\n",
       "      <td>14102100</td>\n",
       "      <td>1005</td>\n",
       "      <td>0</td>\n",
       "      <td>85f751fd</td>\n",
       "      <td>c4e18dd6</td>\n",
       "      <td>50e219e0</td>\n",
       "      <td>e2fcccd2</td>\n",
       "      <td>5c5a694b</td>\n",
       "      <td>...</td>\n",
       "      <td>1</td>\n",
       "      <td>0</td>\n",
       "      <td>4687</td>\n",
       "      <td>320</td>\n",
       "      <td>50</td>\n",
       "      <td>423</td>\n",
       "      <td>2</td>\n",
       "      <td>39</td>\n",
       "      <td>100148</td>\n",
       "      <td>32</td>\n",
       "    </tr>\n",
       "    <tr>\n",
       "      <th>4</th>\n",
       "      <td>10029289556764215760</td>\n",
       "      <td>0</td>\n",
       "      <td>14102100</td>\n",
       "      <td>1005</td>\n",
       "      <td>0</td>\n",
       "      <td>1fbe01fe</td>\n",
       "      <td>f3845767</td>\n",
       "      <td>28905ebd</td>\n",
       "      <td>ecad2386</td>\n",
       "      <td>7801e8d9</td>\n",
       "      <td>...</td>\n",
       "      <td>1</td>\n",
       "      <td>2</td>\n",
       "      <td>15706</td>\n",
       "      <td>320</td>\n",
       "      <td>50</td>\n",
       "      <td>1722</td>\n",
       "      <td>0</td>\n",
       "      <td>35</td>\n",
       "      <td>100084</td>\n",
       "      <td>79</td>\n",
       "    </tr>\n",
       "  </tbody>\n",
       "</table>\n",
       "<p>5 rows × 24 columns</p>\n",
       "</div>"
      ],
      "text/plain": [
       "                     id  click      hour    C1  banner_pos   site_id  \\\n",
       "0  10002028568167339219      0  14102100  1005           0  9e8cf15d   \n",
       "1  10006958186789044052      1  14102100  1005           0  85f751fd   \n",
       "2  10011650513707909570      0  14102100  1005           0  85f751fd   \n",
       "3  10022961149355219548      0  14102100  1005           0  85f751fd   \n",
       "4  10029289556764215760      0  14102100  1005           0  1fbe01fe   \n",
       "\n",
       "  site_domain site_category    app_id app_domain ...  device_type  \\\n",
       "0    0d3cb7be      f028772b  ecad2386   7801e8d9 ...            1   \n",
       "1    c4e18dd6      50e219e0  0acbeaa3   45a51db4 ...            1   \n",
       "2    c4e18dd6      50e219e0  febd1138   82e27996 ...            1   \n",
       "3    c4e18dd6      50e219e0  e2fcccd2   5c5a694b ...            1   \n",
       "4    f3845767      28905ebd  ecad2386   7801e8d9 ...            1   \n",
       "\n",
       "  device_conn_type    C14  C15  C16   C17  C18  C19     C20  C21  \n",
       "0                2  20596  320   50  2161    0   35  100148  157  \n",
       "1                0  18993  320   50  2161    0   35  100034  157  \n",
       "2                0  21611  320   50  2480    3  297  100111   61  \n",
       "3                0   4687  320   50   423    2   39  100148   32  \n",
       "4                2  15706  320   50  1722    0   35  100084   79  \n",
       "\n",
       "[5 rows x 24 columns]"
      ]
     },
     "execution_count": 5,
     "metadata": {},
     "output_type": "execute_result"
    }
   ],
   "source": [
    "data.head()"
   ]
  },
  {
   "cell_type": "markdown",
   "metadata": {},
   "source": [
    "### Data Description"
   ]
  },
  {
   "cell_type": "markdown",
   "metadata": {},
   "source": [
    "Training dataset has 843502 instances with 24 data fields.\n"
   ]
  },
  {
   "cell_type": "markdown",
   "metadata": {},
   "source": [
    "### Dataset Fields"
   ]
  },
  {
   "cell_type": "markdown",
   "metadata": {},
   "source": [
    "* id: ad identifier\n",
    "* click: 0/1 for non-click/click\n",
    "* hour: format is YYMMDDHH, so 14091123 means 23:00 on Sept. 11, 2014 UTC.\n",
    "* C1 — anonymized categorical variable\n",
    "* banner_pos\n",
    "* site_id\n",
    "* site_domain\n",
    "* site_category\n",
    "* app_id\n",
    "* app_domain\n",
    "* app_category\n",
    "* device_id\n",
    "* device_ip\n",
    "* device_model\n",
    "* device_type\n",
    "* device_conn_type\n",
    "* C14-C21 — anonymized categorical variables"
   ]
  },
  {
   "cell_type": "markdown",
   "metadata": {},
   "source": [
    "## Exploratory data analysis and  Feature engineering"
   ]
  },
  {
   "cell_type": "markdown",
   "metadata": {},
   "source": [
    "Checking the click through rate behaviour for better understanding.\n",
    "\n",
    "The click through rate is approximately 17.027% (Number of Ad clicks / Total number of instances) "
   ]
  },
  {
   "cell_type": "code",
   "execution_count": 9,
   "metadata": {},
   "outputs": [
    {
     "data": {
      "image/png": "[encoded data removed]",
      "text/plain": [
       "<Figure size 432x288 with 1 Axes>"
      ]
     },
     "metadata": {},
     "output_type": "display_data"
    }
   ],
   "source": [
    "py.hist(data.click,color=\"red\")\n",
    "py.xlabel(\"Clicks\")\n",
    "py.ylabel(\"Frequency\")\n",
    "py.xticks(range(0, 2),['False','True'])\n",
    "py.title('Click through behaviour')\n",
    "py.show()"
   ]
  },
  {
   "cell_type": "markdown",
   "metadata": {},
   "source": [
    "##### Removing \"id\" feature as it doesnt add any significance to the prediction model"
   ]
  },
  {
   "cell_type": "code",
   "execution_count": 10,
   "metadata": {},
   "outputs": [],
   "source": [
    "data = data.drop([\"id\"],axis=1)"
   ]
  },
  {
   "cell_type": "markdown",
   "metadata": {},
   "source": [
    "###### Analyzing C1 feature\n",
    "\n",
    "C1 is a anonimized categorical variable and most of the values fall under the category of 1005."
   ]
  },
  {
   "cell_type": "code",
   "execution_count": 19,
   "metadata": {},
   "outputs": [
    {
     "data": {
      "image/png": "[encoded data removed]",
      "text/plain": [
       "<Figure size 432x288 with 1 Axes>"
      ]
     },
     "metadata": {},
     "output_type": "display_data"
    }
   ],
   "source": [
    "py.hist(data.C1,label=data.C1.unique().astype(str))\n",
    "py.xlabel(\"C1\")\n",
    "py.ylabel(\"Frequency\")\n",
    "py.xticks(range(1001, 1013))\n",
    "py.show()"
   ]
  },
  {
   "cell_type": "markdown",
   "metadata": {},
   "source": [
    "###### Percentage of data poitns under category 1005\n",
    "\n",
    "91.11% of values fall under \"1005\" category."
   ]
  },
  {
   "cell_type": "code",
   "execution_count": 17,
   "metadata": {},
   "outputs": [
    {
     "data": {
      "text/plain": [
       "C1\n",
       "1001     0.032365\n",
       "1002     6.041242\n",
       "1005    91.112054\n",
       "1007     0.098399\n",
       "1008     0.019443\n",
       "1010     2.461049\n",
       "1012     0.235447\n",
       "dtype: float64"
      ]
     },
     "execution_count": 17,
     "metadata": {},
     "output_type": "execute_result"
    }
   ],
   "source": [
    "data.groupby(\"C1\").size()/data.shape[0]*100"
   ]
  },
  {
   "cell_type": "markdown",
   "metadata": {},
   "source": [
    "##### Analyzing banner positions\n",
    "\n",
    "There are 7 banner positions, which implies the positions where the banner ads are posted. We can see that most of the ad clicks happen when the banner is in positions 1 and 2."
   ]
  },
  {
   "cell_type": "code",
   "execution_count": 20,
   "metadata": {
    "scrolled": false
   },
   "outputs": [
    {
     "data": {
      "image/png": "[encoded data removed]",
      "text/plain": [
       "<Figure size 432x288 with 1 Axes>"
      ]
     },
     "metadata": {},
     "output_type": "display_data"
    }
   ],
   "source": [
    "py.hist(data.banner_pos)\n",
    "py.xlabel(\"Banner Positions\")\n",
    "py.ylabel(\"Frequency\")\n",
    "py.show()"
   ]
  },
  {
   "cell_type": "markdown",
   "metadata": {},
   "source": [
    "###### CTR analysis of banner position\n",
    "\n",
    "Belowe we see the percentage of CTR for position 1 to 7 respectively. The highest CTR is seen for banner position 7."
   ]
  },
  {
   "cell_type": "code",
   "execution_count": 40,
   "metadata": {},
   "outputs": [],
   "source": [
    "# CTR calculation by using number of clicks / total instances \n",
    "clicks = data[['banner_pos','click']].groupby(['banner_pos']).sum().reset_index().sort_values('click',ascending=False)['click']\n",
    "banner_pos = data[['banner_pos','click']].groupby(['banner_pos']).sum().reset_index().sort_values('click',ascending=False)['banner_pos']\n",
    "instances = data[['banner_pos','click']].groupby(['banner_pos']).count().reset_index().sort_values('click',ascending=False)['click']\n",
    "CTR = (clicks/instances)*100"
   ]
  },
  {
   "cell_type": "code",
   "execution_count": 41,
   "metadata": {},
   "outputs": [
    {
     "data": {
      "text/html": [
       "<div>\n",
       "<style scoped>\n",
       "    .dataframe tbody tr th:only-of-type {\n",
       "        vertical-align: middle;\n",
       "    }\n",
       "\n",
       "    .dataframe tbody tr th {\n",
       "        vertical-align: top;\n",
       "    }\n",
       "\n",
       "    .dataframe thead th {\n",
       "        text-align: right;\n",
       "    }\n",
       "</style>\n",
       "<table border=\"1\" class=\"dataframe\">\n",
       "  <thead>\n",
       "    <tr style=\"text-align: right;\">\n",
       "      <th></th>\n",
       "      <th>banner_pos</th>\n",
       "      <th>click</th>\n",
       "    </tr>\n",
       "  </thead>\n",
       "  <tbody>\n",
       "    <tr>\n",
       "      <th>0</th>\n",
       "      <td>0</td>\n",
       "      <td>16.354514</td>\n",
       "    </tr>\n",
       "    <tr>\n",
       "      <th>1</th>\n",
       "      <td>1</td>\n",
       "      <td>18.688072</td>\n",
       "    </tr>\n",
       "    <tr>\n",
       "      <th>6</th>\n",
       "      <td>7</td>\n",
       "      <td>29.873909</td>\n",
       "    </tr>\n",
       "    <tr>\n",
       "      <th>2</th>\n",
       "      <td>2</td>\n",
       "      <td>10.320285</td>\n",
       "    </tr>\n",
       "    <tr>\n",
       "      <th>4</th>\n",
       "      <td>4</td>\n",
       "      <td>15.083799</td>\n",
       "    </tr>\n",
       "    <tr>\n",
       "      <th>5</th>\n",
       "      <td>5</td>\n",
       "      <td>16.463415</td>\n",
       "    </tr>\n",
       "    <tr>\n",
       "      <th>3</th>\n",
       "      <td>3</td>\n",
       "      <td>11.864407</td>\n",
       "    </tr>\n",
       "  </tbody>\n",
       "</table>\n",
       "</div>"
      ],
      "text/plain": [
       "   banner_pos      click\n",
       "0           0  16.354514\n",
       "1           1  18.688072\n",
       "6           7  29.873909\n",
       "2           2  10.320285\n",
       "4           4  15.083799\n",
       "5           5  16.463415\n",
       "3           3  11.864407"
      ]
     },
     "execution_count": 41,
     "metadata": {},
     "output_type": "execute_result"
    }
   ],
   "source": [
    "pd.concat([pd.DataFrame(banner_pos), pd.DataFrame(CTR)], axis=1)"
   ]
  },
  {
   "cell_type": "markdown",
   "metadata": {},
   "source": [
    "##### Analyzing app categories and sites\n",
    "\n",
    "Evidently there are about 28 app categories and 2366 unique site categories in the given dataset."
   ]
  },
  {
   "cell_type": "markdown",
   "metadata": {},
   "source": [
    "### Feature engineering hour attribute\n",
    "\n",
    "The \"hour\" feature in the dataset is of the format YYMMDDHH. In order to better analyze the data, I am splitting the feaure into \"Date\", \"Month\", \"Year\" and \"Hour\". The given dataset is for year 2014 and \"October\" Month, which is constant and does not add any value to the prediction model and hence removing those features below."
   ]
  },
  {
   "cell_type": "code",
   "execution_count": 42,
   "metadata": {},
   "outputs": [],
   "source": [
    "import re\n",
    "data['Year'], data['Month'], data['Date'], data['Hour'] = np.array([data.hour.apply(lambda x : re.findall('..',str(x)))]).T"
   ]
  },
  {
   "cell_type": "code",
   "execution_count": 50,
   "metadata": {},
   "outputs": [],
   "source": [
    "data = data.drop([\"hour\",\"Month\",\"Year\"],axis=1)"
   ]
  },
  {
   "cell_type": "markdown",
   "metadata": {},
   "source": [
    "##### Analyzing number of clicks per day in october 2014\n",
    "\n",
    "On 22 and 24th we see most ad clicks. Let us see how this translates in CTR?"
   ]
  },
  {
   "cell_type": "code",
   "execution_count": 51,
   "metadata": {},
   "outputs": [
    {
     "data": {
      "text/plain": [
       "Text(0,0.5,'Number of clicks')"
      ]
     },
     "execution_count": 51,
     "metadata": {},
     "output_type": "execute_result"
    },
    {
     "data": {
      "image/png": "[encoded data removed]",
      "text/plain": [
       "<Figure size 432x288 with 1 Axes>"
      ]
     },
     "metadata": {},
     "output_type": "display_data"
    }
   ],
   "source": [
    "py.plot(data.Date.unique(),data[['Date','click']].groupby(['Date']).sum())\n",
    "py.title(\"Variation of number of clicks for each day\")\n",
    "py.xlabel(\"Date\")\n",
    "py.ylabel(\"Number of clicks\")"
   ]
  },
  {
   "cell_type": "markdown",
   "metadata": {},
   "source": [
    "##### Analyzing number of clicks per hour in october 2014\n",
    "\n",
    "At 1 pm, we see most ad clicks."
   ]
  },
  {
   "cell_type": "code",
   "execution_count": 55,
   "metadata": {},
   "outputs": [
    {
     "data": {
      "text/plain": [
       "Text(0,0.5,'Number of clicks')"
      ]
     },
     "execution_count": 55,
     "metadata": {},
     "output_type": "execute_result"
    },
    {
     "data": {
      "image/png": "[encoded data removed]",
      "text/plain": [
       "<Figure size 432x288 with 1 Axes>"
      ]
     },
     "metadata": {},
     "output_type": "display_data"
    }
   ],
   "source": [
    "py.plot(data.Hour.unique(),data[['Hour','click']].groupby(['Hour']).sum())\n",
    "py.title(\"Variation of number of clicks for each day\")\n",
    "py.xlabel(\"Date\")\n",
    "py.ylabel(\"Number of clicks\")"
   ]
  },
  {
   "cell_type": "markdown",
   "metadata": {},
   "source": [
    "## Pre-processing "
   ]
  },
  {
   "cell_type": "markdown",
   "metadata": {},
   "source": [
    "##### Converting \"Banner position\", \"Device type\" and \"device connection type\" from numerical value to categorical"
   ]
  },
  {
   "cell_type": "code",
   "execution_count": 56,
   "metadata": {},
   "outputs": [],
   "source": [
    "data.banner_pos = data.banner_pos.astype(str)\n",
    "data.device_type = data.device_type.astype(str)\n",
    "data.device_conn_type = data.device_conn_type.astype(str)"
   ]
  },
  {
   "cell_type": "markdown",
   "metadata": {},
   "source": [
    "##### Extracting target variable and other preditors into a data frame"
   ]
  },
  {
   "cell_type": "code",
   "execution_count": 57,
   "metadata": {},
   "outputs": [],
   "source": [
    "target = data.click\n",
    "data = data.iloc[:,1:]"
   ]
  },
  {
   "cell_type": "markdown",
   "metadata": {},
   "source": [
    "##### Check for near zero variance variables\n",
    "\n",
    "This is to make sure that we do not have any redudant or constant variable as it does not provide any new information to the model in turn would not help with our models prediction capability.\n",
    "\n",
    "We are looking for variables with variace of 0.1 % or less to be removed."
   ]
  },
  {
   "cell_type": "code",
   "execution_count": 58,
   "metadata": {},
   "outputs": [
    {
     "data": {
      "text/plain": [
       "(843502, 9)"
      ]
     },
     "execution_count": 58,
     "metadata": {},
     "output_type": "execute_result"
    }
   ],
   "source": [
    "data[data.describe().columns.values].shape"
   ]
  },
  {
   "cell_type": "code",
   "execution_count": 59,
   "metadata": {},
   "outputs": [],
   "source": [
    "from sklearn.feature_selection import VarianceThreshold\n",
    "\n",
    "selector = VarianceThreshold(threshold=0.1)\n",
    "data1 = selector.fit_transform(data[data.describe().columns.values])"
   ]
  },
  {
   "cell_type": "code",
   "execution_count": 60,
   "metadata": {},
   "outputs": [
    {
     "data": {
      "text/plain": [
       "(843502, 9)"
      ]
     },
     "execution_count": 60,
     "metadata": {},
     "output_type": "execute_result"
    }
   ],
   "source": [
    "data1.shape"
   ]
  },
  {
   "cell_type": "markdown",
   "metadata": {},
   "source": [
    "As we have the same size after checking for NZV with a threshold of 0.1 %, we do not have to remove any variables from the dataset."
   ]
  },
  {
   "cell_type": "markdown",
   "metadata": {},
   "source": [
    "##### Correlation check or collinearity check\n",
    "\n",
    "Having highly correlated variables would highly affect the predictive model and also if two variables have very high correlation (i.e 0.8 or higher), then one of the variable can be removed as two variables with same information adds redundancy and unnecsarry complexity"
   ]
  },
  {
   "cell_type": "code",
   "execution_count": 61,
   "metadata": {},
   "outputs": [
    {
     "data": {
      "image/png": "[encoded data removed]",
      "text/plain": [
       "<Figure size 432x288 with 2 Axes>"
      ]
     },
     "metadata": {},
     "output_type": "display_data"
    }
   ],
   "source": [
    "corr = data[data.describe().columns.values].corr()\n",
    "ax = sns.heatmap(\n",
    "    corr, \n",
    "    vmin=-1, vmax=1, center=0,\n",
    "    cmap=sns.diverging_palette(20, 220, n=200),\n",
    "    square=True\n",
    ")\n",
    "ax.set_xticklabels(\n",
    "    ax.get_xticklabels(),\n",
    "    rotation=45,\n",
    "    horizontalalignment='right'\n",
    ");"
   ]
  },
  {
   "cell_type": "markdown",
   "metadata": {},
   "source": [
    "From the above plot, we can see that C14 and C17 are highly correlated and we can remove one of the variable, which I have chosen to be \"C14\""
   ]
  },
  {
   "cell_type": "code",
   "execution_count": 62,
   "metadata": {},
   "outputs": [],
   "source": [
    "data = data.drop(\"C14\",axis=1)"
   ]
  },
  {
   "cell_type": "markdown",
   "metadata": {},
   "source": [
    "##### Scaling\n",
    "\n",
    "Scaling plays a vital part in better performance and reduction in compute power of the predictive model. Hence, we would scale the numerical data using \"Min Max Scaler\", this makes all the numerical values between similar range. The added advantage is that we see smaller numerical values in some features and very large values in other, this causes confusion to the ML model and might produce wrong results."
   ]
  },
  {
   "cell_type": "code",
   "execution_count": 63,
   "metadata": {},
   "outputs": [
    {
     "name": "stderr",
     "output_type": "stream",
     "text": [
      "C:\\Users\\sriha\\Anaconda3\\lib\\site-packages\\sklearn\\preprocessing\\data.py:323: DataConversionWarning: Data with input dtype int64 were all converted to float64 by MinMaxScaler.\n",
      "  return self.partial_fit(X, y)\n"
     ]
    }
   ],
   "source": [
    "from sklearn.preprocessing import MinMaxScaler\n",
    "\n",
    "colnames = data.describe().columns.values\n",
    "scaler = MinMaxScaler()\n",
    "scaler.fit(data._get_numeric_data())\n",
    "data[colnames] = scaler.transform(data._get_numeric_data())"
   ]
  },
  {
   "cell_type": "markdown",
   "metadata": {},
   "source": [
    "##### Label Encoding\n",
    "\n",
    "The categorical variables cant be passed as inputs to a Machine learning model (as these are mathematical models). We need to convert the categorical variable into numerical classes. This can be acheived using \"label encoding\" where each class is provided a numerical value from 0 to \"number of classes\". I have opted for label encoding rather than one-hot encoding as we have large number of categories and creating a separte feature for each category would means huge number of classes which clearly increases complexity and overfits the model a lot."
   ]
  },
  {
   "cell_type": "code",
   "execution_count": 64,
   "metadata": {},
   "outputs": [],
   "source": [
    "from sklearn.preprocessing import LabelEncoder\n",
    "\n",
    "colnames1 = data.select_dtypes(include='object').columns.values\n",
    "data[colnames1] = data.select_dtypes(include='object').apply(LabelEncoder().fit_transform)"
   ]
  },
  {
   "cell_type": "markdown",
   "metadata": {},
   "source": [
    "### Handling Imbalance data\n",
    "\n",
    "This is very important to handle imbalanced data as it greatly biases the predictive models and produces good accuracy values but very poor precision and recall, which implies a very bad model for real world usage.\n",
    "\n",
    "In this case, there is a clear imbalance between the ads clicked and not clicked by a large margin or 1:7. This makes the model biased towards ads not clicked. The model would most of the time predict as ad being not clicked but in reality it might have been clicked but model fails to detect due to very small number of ad clicks information.\n",
    "\n",
    "##### Here I have opted for the over-sampling approach using ADASYN (Adaptive Synthetic Sampling Approach). This over samples the class with small number of instances to make the dataset balanced. \n",
    "\n",
    "Below histograms would show this.\n",
    "\n",
    "#### I have also built ML models with both imbalanced and balanced dataset to show the difference"
   ]
  },
  {
   "cell_type": "code",
   "execution_count": 66,
   "metadata": {},
   "outputs": [
    {
     "data": {
      "image/png": "[encoded data removed]",
      "text/plain": [
       "<Figure size 432x288 with 1 Axes>"
      ]
     },
     "metadata": {},
     "output_type": "display_data"
    }
   ],
   "source": [
    "py.hist(target)\n",
    "py.title(\"Before balancing the dataset\")\n",
    "py.xticks(range(0,2),['False','True'])\n",
    "py.xlabel(\"Clicks\")\n",
    "py.show()"
   ]
  },
  {
   "cell_type": "code",
   "execution_count": 67,
   "metadata": {},
   "outputs": [],
   "source": [
    "target1 = target\n",
    "data1 = data\n",
    "\n",
    "from imblearn.over_sampling import ADASYN \n",
    "sm = ADASYN(random_state=42)\n",
    "data, target = sm.fit_sample(data, target)"
   ]
  },
  {
   "cell_type": "markdown",
   "metadata": {},
   "source": [
    "We can see below that the number of instances have increased from 843502 to 1392962 instances."
   ]
  },
  {
   "cell_type": "code",
   "execution_count": 70,
   "metadata": {},
   "outputs": [
    {
     "data": {
      "text/plain": [
       "(1392962, 22)"
      ]
     },
     "execution_count": 70,
     "metadata": {},
     "output_type": "execute_result"
    }
   ],
   "source": [
    "data.shape"
   ]
  },
  {
   "cell_type": "code",
   "execution_count": 69,
   "metadata": {},
   "outputs": [
    {
     "data": {
      "image/png": "[encoded data removed]",
      "text/plain": [
       "<Figure size 432x288 with 1 Axes>"
      ]
     },
     "metadata": {},
     "output_type": "display_data"
    }
   ],
   "source": [
    "py.hist(target)\n",
    "py.title(\"After balancing the dataset\")\n",
    "py.xticks(range(0,2),['False','True'])\n",
    "py.xlabel(\"Clicks\")\n",
    "py.show()"
   ]
  },
  {
   "cell_type": "markdown",
   "metadata": {},
   "source": [
    "## Model Building"
   ]
  },
  {
   "cell_type": "markdown",
   "metadata": {},
   "source": [
    "#### Splitting data into test and train datasets\n",
    "\n",
    "80% training and 20% validation dataset "
   ]
  },
  {
   "cell_type": "code",
   "execution_count": 71,
   "metadata": {},
   "outputs": [],
   "source": [
    "from sklearn.model_selection import train_test_split\n",
    "\n",
    "X_train, X_test, y_train, y_test = train_test_split(data, target, test_size=0.2, random_state=42)\n",
    "X_train1, X_test1, y_train1, y_test1 = train_test_split(data1, target1, test_size=0.2, random_state=42)"
   ]
  },
  {
   "cell_type": "markdown",
   "metadata": {},
   "source": [
    "#### When it comes to classification, using accuracy blindly as the performance metric would be a disaster, better metrics such as precision or F1 score and ROC curve should be used for better reliable performance metric. Hence, here I am using accuracy and F1-score. Also I have shown how this the above statement is true in imbalanced classes."
   ]
  },
  {
   "cell_type": "markdown",
   "metadata": {},
   "source": [
    "### Naive Bayes - Without imbalance correction"
   ]
  },
  {
   "cell_type": "code",
   "execution_count": 80,
   "metadata": {},
   "outputs": [
    {
     "name": "stdout",
     "output_type": "stream",
     "text": [
      "Accuracy (%):\n",
      "83.05167130011085\n",
      "\n",
      "\n",
      "Confusion Matrix:\n",
      "[[140104      9]\n",
      " [ 28583      5]]\n",
      "\n",
      "Classification Report:\n",
      "              precision    recall  f1-score   support\n",
      "\n",
      "           0       0.83      1.00      0.91    140113\n",
      "           1       0.36      0.00      0.00     28588\n",
      "\n",
      "   micro avg       0.83      0.83      0.83    168701\n",
      "   macro avg       0.59      0.50      0.45    168701\n",
      "weighted avg       0.75      0.83      0.75    168701\n",
      "\n",
      "F1 Score:\n",
      "0.00034962590028669323\n"
     ]
    }
   ],
   "source": [
    "from sklearn.naive_bayes import GaussianNB\n",
    "from sklearn.metrics import accuracy_score\n",
    "from sklearn.metrics import classification_report\n",
    "from sklearn.metrics import confusion_matrix\n",
    "from sklearn.metrics import f1_score\n",
    "\n",
    "gnb1 = GaussianNB()\n",
    "NBpred1 = gnb1.fit(X_train1,y_train1).predict(X_test1)\n",
    "print(\"Accuracy (%):\")\n",
    "print(gnb1.score(X_test1, y_test1)*100)\n",
    "\n",
    "print(\"\\n\\nConfusion Matrix:\")\n",
    "print(confusion_matrix(y_test1, NBpred1))\n",
    "print(\"\\nClassification Report:\")\n",
    "print(classification_report(y_test1, NBpred1))\n",
    "\n",
    "print(\"F1 Score:\")\n",
    "print(f1_score(y_test1, NBpred1))"
   ]
  },
  {
   "cell_type": "markdown",
   "metadata": {},
   "source": [
    "### Naive Bayes - With imbalance correction"
   ]
  },
  {
   "cell_type": "code",
   "execution_count": 76,
   "metadata": {},
   "outputs": [
    {
     "name": "stdout",
     "output_type": "stream",
     "text": [
      "Accuracy (%):\n",
      "55.08573438672185\n",
      "\n",
      "\n",
      "Confusion Matrix:\n",
      "[[ 43434  96737]\n",
      " [ 28391 110031]]\n",
      "\n",
      "Classification Report:\n",
      "              precision    recall  f1-score   support\n",
      "\n",
      "           0       0.60      0.31      0.41    140171\n",
      "           1       0.53      0.79      0.64    138422\n",
      "\n",
      "   micro avg       0.55      0.55      0.55    278593\n",
      "   macro avg       0.57      0.55      0.52    278593\n",
      "weighted avg       0.57      0.55      0.52    278593\n",
      "\n",
      "F1 Score:\n",
      "0.6375097772241375\n"
     ]
    }
   ],
   "source": [
    "from sklearn.naive_bayes import GaussianNB\n",
    "from sklearn.metrics import accuracy_score\n",
    "from sklearn.metrics import classification_report\n",
    "from sklearn.metrics import confusion_matrix\n",
    "from sklearn.metrics import f1_score\n",
    "\n",
    "gnb = GaussianNB()\n",
    "NBpred = gnb.fit(X_train,y_train).predict(X_test)\n",
    "print(\"Accuracy (%):\")\n",
    "print(gnb.score(X_test, y_test)*100)\n",
    "\n",
    "print(\"\\n\\nConfusion Matrix:\")\n",
    "print(confusion_matrix(y_test, NBpred))\n",
    "print(\"\\nClassification Report:\")\n",
    "print(classification_report(y_test, NBpred))\n",
    "\n",
    "print(\"F1 Score:\")\n",
    "print(f1_score(y_test, NBpred))"
   ]
  },
  {
   "cell_type": "markdown",
   "metadata": {},
   "source": [
    "#### Taking naive bayes algorithm, we can see that without imbalance correction the accuracy is 83% which seems great but looking at F1 score, it is evident that the model is a disaster (i.e the model is highly influenced by majority class and undermines the minority class) and would be the worst model to use in real life scenario.\n",
    "\n",
    "#### Whereas the corrected model has lower accuract of 55 % but the F1 score is very much significant indicating an un-biased and treu to life model.\n",
    "\n",
    "#### This is the case with all the upcoming models, Hence I would show the difference again with the best model."
   ]
  },
  {
   "cell_type": "markdown",
   "metadata": {},
   "source": [
    "## Logistic Regression - With imbalance correction"
   ]
  },
  {
   "cell_type": "code",
   "execution_count": 77,
   "metadata": {},
   "outputs": [
    {
     "name": "stderr",
     "output_type": "stream",
     "text": [
      "C:\\Users\\sriha\\Anaconda3\\lib\\site-packages\\sklearn\\linear_model\\logistic.py:433: FutureWarning: Default solver will be changed to 'lbfgs' in 0.22. Specify a solver to silence this warning.\n",
      "  FutureWarning)\n"
     ]
    },
    {
     "name": "stdout",
     "output_type": "stream",
     "text": [
      "Accuracy (%):\n",
      "58.281794589239496\n",
      "\n",
      "\n",
      "Confusion Matrix:\n",
      "[[75751 64420]\n",
      " [51804 86618]]\n",
      "\n",
      "Classification Report:\n",
      "              precision    recall  f1-score   support\n",
      "\n",
      "           0       0.59      0.54      0.57    140171\n",
      "           1       0.57      0.63      0.60    138422\n",
      "\n",
      "   micro avg       0.58      0.58      0.58    278593\n",
      "   macro avg       0.58      0.58      0.58    278593\n",
      "weighted avg       0.58      0.58      0.58    278593\n",
      "\n",
      "F1 Score:\n",
      "0.5984799281420577\n"
     ]
    }
   ],
   "source": [
    "from sklearn.linear_model import LogisticRegression\n",
    "\n",
    "clf1 = LogisticRegression().fit(X_train,y_train)\n",
    "logisticPred = clf1.predict(X_test)\n",
    "print(\"Accuracy (%):\")\n",
    "print(clf1.score(X_test, y_test)*100)\n",
    "\n",
    "print(\"\\n\\nConfusion Matrix:\")\n",
    "print(confusion_matrix(y_test, logisticPred))\n",
    "print(\"\\nClassification Report:\")\n",
    "print(classification_report(y_test, logisticPred))\n",
    "\n",
    "print(\"F1 Score:\")\n",
    "print(f1_score(y_test, logisticPred))"
   ]
  },
  {
   "cell_type": "markdown",
   "metadata": {},
   "source": [
    "## xgboost algorithm with 100 estimators - With Correction"
   ]
  },
  {
   "cell_type": "code",
   "execution_count": 81,
   "metadata": {},
   "outputs": [
    {
     "name": "stdout",
     "output_type": "stream",
     "text": [
      "Accuracy (%):\n",
      "82.89906781577426\n",
      "\n",
      "\n",
      "Confusion Matrix:\n",
      "[[134432   5739]\n",
      " [ 41903  96519]]\n",
      "\n",
      "Classification Report:\n",
      "              precision    recall  f1-score   support\n",
      "\n",
      "           0       0.76      0.96      0.85    140171\n",
      "           1       0.94      0.70      0.80    138422\n",
      "\n",
      "   micro avg       0.83      0.83      0.83    278593\n",
      "   macro avg       0.85      0.83      0.83    278593\n",
      "weighted avg       0.85      0.83      0.83    278593\n",
      "\n",
      "F1 Score:\n",
      "0.8020525178660461\n"
     ]
    }
   ],
   "source": [
    "import xgboost as xgb\n",
    "\n",
    "clf6 = xgb.XGBClassifier(n_estimators=100)\n",
    "clf6.fit(X_train, y_train)\n",
    "xgBoostPred = clf6.predict(X_test)\n",
    "print(\"Accuracy (%):\")\n",
    "print(clf6.score(X_test, y_test)*100)\n",
    "\n",
    "print(\"\\n\\nConfusion Matrix:\")\n",
    "print(confusion_matrix(y_test, xgBoostPred))\n",
    "print(\"\\nClassification Report:\")\n",
    "print(classification_report(y_test, xgBoostPred))\n",
    "\n",
    "print(\"F1 Score:\")\n",
    "print(f1_score(y_test, xgBoostPred))"
   ]
  },
  {
   "cell_type": "markdown",
   "metadata": {},
   "source": [
    "## Random Forest algorithm - With Imbalance Correction"
   ]
  },
  {
   "cell_type": "code",
   "execution_count": 82,
   "metadata": {},
   "outputs": [
    {
     "name": "stdout",
     "output_type": "stream",
     "text": [
      "Accuracy (%):\n",
      "88.11456138524659\n",
      "\n",
      "\n",
      "Confusion Matrix:\n",
      "[[127052  13119]\n",
      " [ 19993 118429]]\n",
      "\n",
      "Classification Report:\n",
      "              precision    recall  f1-score   support\n",
      "\n",
      "           0       0.86      0.91      0.88    140171\n",
      "           1       0.90      0.86      0.88    138422\n",
      "\n",
      "   micro avg       0.88      0.88      0.88    278593\n",
      "   macro avg       0.88      0.88      0.88    278593\n",
      "weighted avg       0.88      0.88      0.88    278593\n",
      "\n",
      "F1 Score:\n",
      "0.8773493351113086\n"
     ]
    }
   ],
   "source": [
    "from sklearn.ensemble import RandomForestClassifier\n",
    "\n",
    "clf = RandomForestClassifier(n_estimators=100,random_state=0)\n",
    "clf.fit(X_train, y_train)  \n",
    "\n",
    "randForestPred = clf.predict(X_test)\n",
    "print(\"Accuracy (%):\")\n",
    "print(clf.score(X_test, y_test)*100)\n",
    "\n",
    "print(\"\\n\\nConfusion Matrix:\")\n",
    "print(confusion_matrix(y_test, randForestPred))\n",
    "print(\"\\nClassification Report:\")\n",
    "print(classification_report(y_test, randForestPred))\n",
    "\n",
    "print(\"F1 Score:\")\n",
    "print(f1_score(y_test, randForestPred))"
   ]
  },
  {
   "cell_type": "markdown",
   "metadata": {},
   "source": [
    "## Decision Tree algorithm - Without Imbalance Correction"
   ]
  },
  {
   "cell_type": "code",
   "execution_count": 84,
   "metadata": {},
   "outputs": [
    {
     "name": "stdout",
     "output_type": "stream",
     "text": [
      "Accuracy (%):\n",
      "80.15660843741294\n",
      "\n",
      "\n",
      "Confusion Matrix:\n",
      "[[125767  14346]\n",
      " [ 19130   9458]]\n",
      "\n",
      "Classification Report:\n",
      "              precision    recall  f1-score   support\n",
      "\n",
      "           0       0.87      0.90      0.88    140113\n",
      "           1       0.40      0.33      0.36     28588\n",
      "\n",
      "   micro avg       0.80      0.80      0.80    168701\n",
      "   macro avg       0.63      0.61      0.62    168701\n",
      "weighted avg       0.79      0.80      0.79    168701\n",
      "\n",
      "F1 Score:\n",
      "0.36104748816613225\n"
     ]
    }
   ],
   "source": [
    "from sklearn.tree import DecisionTreeClassifier\n",
    "dtree1=DecisionTreeClassifier()\n",
    "dtree1.fit(X_train1, y_train1)\n",
    "\n",
    "decisionTreePred1 = dtree1.predict(X_test1)\n",
    "print(\"Accuracy (%):\")\n",
    "print(dtree1.score(X_test1, y_test1)*100)\n",
    "\n",
    "print(\"\\n\\nConfusion Matrix:\")\n",
    "print(confusion_matrix(y_test1, decisionTreePred1))\n",
    "print(\"\\nClassification Report:\")\n",
    "print(classification_report(y_test1, decisionTreePred1))\n",
    "\n",
    "print(\"F1 Score:\")\n",
    "print(f1_score(y_test1, decisionTreePred1))"
   ]
  },
  {
   "cell_type": "markdown",
   "metadata": {},
   "source": [
    "## Decision Tree algorithm - With Imbalance Correction"
   ]
  },
  {
   "cell_type": "code",
   "execution_count": 83,
   "metadata": {},
   "outputs": [
    {
     "name": "stdout",
     "output_type": "stream",
     "text": [
      "Accuracy (%):\n",
      "86.16763522414418\n",
      "\n",
      "\n",
      "Confusion Matrix:\n",
      "[[122150  18021]\n",
      " [ 20515 117907]]\n",
      "\n",
      "Classification Report:\n",
      "              precision    recall  f1-score   support\n",
      "\n",
      "           0       0.86      0.87      0.86    140171\n",
      "           1       0.87      0.85      0.86    138422\n",
      "\n",
      "   micro avg       0.86      0.86      0.86    278593\n",
      "   macro avg       0.86      0.86      0.86    278593\n",
      "weighted avg       0.86      0.86      0.86    278593\n",
      "\n",
      "F1 Score:\n",
      "0.859537087661746\n"
     ]
    }
   ],
   "source": [
    "from sklearn.tree import DecisionTreeClassifier\n",
    "dtree=DecisionTreeClassifier()\n",
    "dtree.fit(X_train, y_train)\n",
    "\n",
    "decisionTreePred = dtree.predict(X_test)\n",
    "print(\"Accuracy (%):\")\n",
    "print(dtree.score(X_test, y_test)*100)\n",
    "\n",
    "print(\"\\n\\nConfusion Matrix:\")\n",
    "print(confusion_matrix(y_test, decisionTreePred))\n",
    "print(\"\\nClassification Report:\")\n",
    "print(classification_report(y_test, decisionTreePred))\n",
    "\n",
    "print(\"F1 Score:\")\n",
    "print(f1_score(y_test, decisionTreePred))"
   ]
  },
  {
   "cell_type": "markdown",
   "metadata": {},
   "source": [
    "## Conclusion and Prediction on Test Dataset."
   ]
  },
  {
   "cell_type": "markdown",
   "metadata": {},
   "source": [
    "From above results, we can conclude that although Random Forest classifier with Correction produces highest classification accuracy and F1-Score, we would choose Decision tree classifier as it is a lot faster than Random Forest with just a very small amount of accuracy and F1-score compromise.\n",
    "\n",
    "Also we can see that although Random forest without correction produces 80% accuracy, the F1 Score is 0.36 which is pretty low indicating a bad model."
   ]
  },
  {
   "cell_type": "code",
   "execution_count": 109,
   "metadata": {},
   "outputs": [],
   "source": [
    "testData = pd.read_csv(\"sampled_test.csv\").iloc[:,1:]\n",
    "newData = pd.read_csv(\"sampled_training.csv\").iloc[:,2:]\n",
    "\n",
    "testData.columns = newData.columns.values"
   ]
  },
  {
   "cell_type": "markdown",
   "metadata": {},
   "source": [
    "### Test data pre-processing"
   ]
  },
  {
   "cell_type": "markdown",
   "metadata": {},
   "source": [
    "We should always perform the same pre-processing to test dataset as we did for train dataset\n",
    "\n",
    "##### Removing C14 feature as we did in train dataset based on high correlation"
   ]
  },
  {
   "cell_type": "code",
   "execution_count": 110,
   "metadata": {},
   "outputs": [],
   "source": [
    "testData = testData.drop(\"C14\",axis=1)"
   ]
  },
  {
   "cell_type": "markdown",
   "metadata": {},
   "source": [
    "### Feature engineering hour attribute\n",
    "\n",
    "The \"hour\" feature in the dataset is of the format YYMMDDHH. In order to better analyze the data, I am splitting the feaure into \"Date\", \"Month\", \"Year\" and \"Hour\". The given dataset is for year 2014 and \"October\" Month, which is constant and does not add any value to the prediction model and hence removing those features below."
   ]
  },
  {
   "cell_type": "code",
   "execution_count": 111,
   "metadata": {},
   "outputs": [],
   "source": [
    "testData['Year'], testData['Month'], testData['Date'], testData['Hour'] = \\\n",
    "np.array([testData.hour.apply(lambda x : re.findall('..',str(x)))]).T\n",
    "\n",
    "testData = testData.drop([\"hour\",\"Month\",\"Year\"],axis=1)"
   ]
  },
  {
   "cell_type": "markdown",
   "metadata": {},
   "source": [
    "##### Converting \"Banner position\", \"Device type\" and \"device connection type\" from numerical value to categorical"
   ]
  },
  {
   "cell_type": "code",
   "execution_count": 114,
   "metadata": {},
   "outputs": [],
   "source": [
    "testData.banner_pos = testData.banner_pos.astype(str)\n",
    "testData.device_type = testData.device_type.astype(str)\n",
    "testData.device_conn_type = testData.device_conn_type.astype(str)"
   ]
  },
  {
   "cell_type": "markdown",
   "metadata": {},
   "source": [
    "##### Scaling numerical features\n",
    "\n",
    "We would scale the numerical data using \"Min Max Scaler\", this makes all the numerical values between similar range"
   ]
  },
  {
   "cell_type": "code",
   "execution_count": 115,
   "metadata": {},
   "outputs": [
    {
     "name": "stderr",
     "output_type": "stream",
     "text": [
      "C:\\Users\\sriha\\Anaconda3\\lib\\site-packages\\sklearn\\preprocessing\\data.py:323: DataConversionWarning: Data with input dtype int64 were all converted to float64 by MinMaxScaler.\n",
      "  return self.partial_fit(X, y)\n"
     ]
    }
   ],
   "source": [
    "from sklearn.preprocessing import MinMaxScaler\n",
    "\n",
    "colnames1 = testData.describe().columns.values\n",
    "scaler1 = MinMaxScaler()\n",
    "scaler1.fit(testData._get_numeric_data())\n",
    "testData[colnames1] = scaler.transform(testData._get_numeric_data())"
   ]
  },
  {
   "cell_type": "markdown",
   "metadata": {},
   "source": [
    "##### Label Encoding"
   ]
  },
  {
   "cell_type": "code",
   "execution_count": 116,
   "metadata": {},
   "outputs": [],
   "source": [
    "colnames2 = testData.select_dtypes(include='object').columns.values\n",
    "testData[colnames2] = testData.select_dtypes(include='object').apply(LabelEncoder().fit_transform)"
   ]
  },
  {
   "cell_type": "markdown",
   "metadata": {},
   "source": [
    "### Final Prediction on sampled_test data file"
   ]
  },
  {
   "cell_type": "code",
   "execution_count": 121,
   "metadata": {},
   "outputs": [],
   "source": [
    "finalPredictions = dtree.predict(testData).astype(int)"
   ]
  },
  {
   "cell_type": "code",
   "execution_count": 122,
   "metadata": {},
   "outputs": [],
   "source": [
    "np.savetxt(\"finalPredictions.csv\", finalPredictions, delimiter=\",\")"
   ]
  }
 ],
 "metadata": {
  "kernelspec": {
   "display_name": "Python 3",
   "language": "python",
   "name": "python3"
  },
  "language_info": {
   "codemirror_mode": {
    "name": "ipython",
    "version": 3
   },
   "file_extension": ".py",
   "mimetype": "text/x-python",
   "name": "python",
   "nbconvert_exporter": "python",
   "pygments_lexer": "ipython3",
   "version": "3.6.5"
  }
 },
 "nbformat": 4,
 "nbformat_minor": 2
}
